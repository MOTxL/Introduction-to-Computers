{
  "nbformat": 4,
  "nbformat_minor": 0,
  "metadata": {
    "colab": {
      "name": "Untitled11.ipynb",
      "provenance": [],
      "authorship_tag": "ABX9TyPdU4C4bqpZUoKoC4IIXsjI",
      "include_colab_link": true
    },
    "kernelspec": {
      "name": "python3",
      "display_name": "Python 3"
    },
    "language_info": {
      "name": "python"
    }
  },
  "cells": [
    {
      "cell_type": "markdown",
      "metadata": {
        "id": "view-in-github",
        "colab_type": "text"
      },
      "source": [
        "<a href=\"https://colab.research.google.com/github/MOTxL/Introduction-to-Computers/blob/main/0520.ipynb\" target=\"_parent\"><img src=\"https://colab.research.google.com/assets/colab-badge.svg\" alt=\"Open In Colab\"/></a>"
      ]
    },
    {
      "cell_type": "code",
      "execution_count": null,
      "metadata": {
        "colab": {
          "base_uri": "https://localhost:8080/"
        },
        "id": "5mjQhmpqQ5oF",
        "outputId": "c17f6a4c-70ae-4e3b-f299-98cf4b95128c"
      },
      "outputs": [
        {
          "output_type": "stream",
          "name": "stdout",
          "text": [
            "金洲勇士現在有的球員陣容 = ['Curry', 'Green', 'Wiggins', 'Looney', 'Thompson']\n",
            "勇士今天最高的三個得分 [30, 22, 28] 球員分別為 ['Curry', 'Wiggins', 'Thompson']\n",
            "勇士今天最低的二個得分 [5, 6] 球員分別為 ['Green', 'Looney']\n",
            "勇士今天最高得分為 Curry 分數為 30 分\n",
            "勇士今天最低得分為 Green 分數為 5 分\n"
          ]
        }
      ],
      "source": [
        "Player=['Curry','Green','Durant','Looney','Thompson']\n",
        "Fraction = [30,5,22,6,28]\n",
        "Player[2]='Wiggins'\n",
        "print('金洲勇士現在有的球員陣容', '=' ,Player)\n",
        "print('勇士今天最高的三個得分', Fraction[0:6:2] , '球員分別為' , Player[0:6:2])\n",
        "print('勇士今天最低的二個得分', Fraction[1:5:2] , '球員分別為' , Player[1:5:2])\n",
        "print('勇士今天最高得分為',Player[0],'分數為',max(Fraction),'分')\n",
        "print('勇士今天最低得分為',Player[1],'分數為',min(Fraction),'分')"
      ]
    },
    {
      "cell_type": "code",
      "source": [
        ""
      ],
      "metadata": {
        "id": "5Yv2LtZ3Rphi"
      },
      "execution_count": null,
      "outputs": []
    }
  ]
}