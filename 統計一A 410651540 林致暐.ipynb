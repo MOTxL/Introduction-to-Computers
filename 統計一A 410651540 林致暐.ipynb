{
  "nbformat": 4,
  "nbformat_minor": 0,
  "metadata": {
    "colab": {
      "name": "Untitled",
      "provenance": [],
      "authorship_tag": "ABX9TyNWycECLkshziqWyrekYUP/",
      "include_colab_link": true
    },
    "kernelspec": {
      "name": "python3",
      "display_name": "Python 3"
    },
    "language_info": {
      "name": "python"
    }
  },
  "cells": [
    {
      "cell_type": "markdown",
      "metadata": {
        "id": "view-in-github",
        "colab_type": "text"
      },
      "source": [
        "<a href=\"https://colab.research.google.com/github/MOTxL/Introduction-to-Computers/blob/main/%E7%B5%B1%E8%A8%88%E4%B8%80A%20410651540%20%E6%9E%97%E8%87%B4%E6%9A%90.ipynb\" target=\"_parent\"><img src=\"https://colab.research.google.com/assets/colab-badge.svg\" alt=\"Open In Colab\"/></a>"
      ]
    },
    {
      "cell_type": "code",
      "execution_count": 14,
      "metadata": {
        "colab": {
          "base_uri": "https://localhost:8080/"
        },
        "id": "p0gQvd8Oo5Np",
        "outputId": "4666e9b6-0918-4a3f-f423-c231d60a5b58"
      },
      "outputs": [
        {
          "output_type": "stream",
          "name": "stdout",
          "text": [
            "消費者擁有的金額200\n",
            "可購買平板\n"
          ]
        }
      ],
      "source": [
        "money = int(input('消費者擁有的金額'))\n",
        "if (money < 100) :\n",
        "  print('金額不足')\n",
        "elif (money >=100 and money <200):\n",
        "  print('可購買手機')  \n",
        "elif (money >=200 and money<300):\n",
        "  print('可購買平板')\n",
        "elif (money >=300 and money<400):\n",
        "  print('可購買電腦')\n",
        "\n"
      ]
    },
    {
      "cell_type": "code",
      "source": [
        ""
      ],
      "metadata": {
        "id": "p0H3y20hpgVy"
      },
      "execution_count": null,
      "outputs": []
    }
  ]
}