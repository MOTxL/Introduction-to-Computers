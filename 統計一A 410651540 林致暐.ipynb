{
  "nbformat": 4,
  "nbformat_minor": 0,
  "metadata": {
    "colab": {
      "name": "Untitled11.ipynb",
      "provenance": [],
      "authorship_tag": "ABX9TyPdOBvrFawlLydoyKza6TrN",
      "include_colab_link": true
    },
    "kernelspec": {
      "name": "python3",
      "display_name": "Python 3"
    },
    "language_info": {
      "name": "python"
    }
  },
  "cells": [
    {
      "cell_type": "markdown",
      "metadata": {
        "id": "view-in-github",
        "colab_type": "text"
      },
      "source": [
        "<a href=\"https://colab.research.google.com/github/MOTxL/Introduction-to-Computers/blob/main/%E7%B5%B1%E8%A8%88%E4%B8%80A%20410651540%20%E6%9E%97%E8%87%B4%E6%9A%90.ipynb\" target=\"_parent\"><img src=\"https://colab.research.google.com/assets/colab-badge.svg\" alt=\"Open In Colab\"/></a>"
      ]
    },
    {
      "cell_type": "code",
      "execution_count": 21,
      "metadata": {
        "colab": {
          "base_uri": "https://localhost:8080/"
        },
        "id": "5mjQhmpqQ5oF",
        "outputId": "636239e7-ee45-455c-a03e-6b8b1aaa62a2"
      },
      "outputs": [
        {
          "output_type": "stream",
          "name": "stdout",
          "text": [
            "金洲勇士現在有的球員陣容 = ['Curry', 'Green', 'Durant', 'Looney', 'Thompson']\n",
            "勇士今天最高的三個得分 [30, 22, 28] 球員分別為 ['Curry', 'Durant', 'Thompson']\n",
            "勇士今天最低的二個得分 [5, 6] 球員分別為 ['Green', 'Looney']\n",
            "勇士今天最高得分為 Curry 分數為 30\n",
            "勇士今天最低得分為 Green 分數為 5\n"
          ]
        }
      ],
      "source": [
        "Player=['Curry','Green','Durant','Looney','Thompson']\n",
        "Fraction = [30,5,22,6,28]\n",
        "print('金洲勇士現在有的球員陣容', '=' ,Player)\n",
        "print('勇士今天最高的三個得分', Fraction[0:6:2] , '球員分別為' , Player[0:6:2])\n",
        "print('勇士今天最低的二個得分', Fraction[1:5:2] , '球員分別為' , Player[1:5:2])\n",
        "print('勇士今天最高得分為',Player[0],'分數為',Fraction[0])\n",
        "print('勇士今天最低得分為',Player[1],'分數為',Fraction[1])"
      ]
    },
    {
      "cell_type": "code",
      "source": [
        ""
      ],
      "metadata": {
        "id": "5Yv2LtZ3Rphi"
      },
      "execution_count": null,
      "outputs": []
    }
  ]
}