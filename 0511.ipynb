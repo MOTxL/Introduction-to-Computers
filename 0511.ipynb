{
  "nbformat": 4,
  "nbformat_minor": 0,
  "metadata": {
    "colab": {
      "name": "0511.ipynb",
      "provenance": [],
      "authorship_tag": "ABX9TyNCur715oDuW1cfgi01/47l",
      "include_colab_link": true
    },
    "kernelspec": {
      "name": "python3",
      "display_name": "Python 3"
    },
    "language_info": {
      "name": "python"
    }
  },
  "cells": [
    {
      "cell_type": "markdown",
      "metadata": {
        "id": "view-in-github",
        "colab_type": "text"
      },
      "source": [
        "<a href=\"https://colab.research.google.com/github/MOTxL/Introduction-to-Computers/blob/main/0511.ipynb\" target=\"_parent\"><img src=\"https://colab.research.google.com/assets/colab-badge.svg\" alt=\"Open In Colab\"/></a>"
      ]
    },
    {
      "cell_type": "code",
      "execution_count": 2,
      "metadata": {
        "colab": {
          "base_uri": "https://localhost:8080/"
        },
        "id": "KVopv5THg22K",
        "outputId": "d27379d4-8967-4263-e835-13ec8e1e5577"
      },
      "outputs": [
        {
          "output_type": "stream",
          "name": "stdout",
          "text": [
            "請輸入你的體溫37.6\n",
            "體溫過高\n"
          ]
        }
      ],
      "source": [
        "temp = float(input('請輸入你的體溫'))\n",
        "if temp >= 37.5:\n",
        "  print('體溫過高')\n",
        "elif temp >=37 and temp < 37.4:\n",
        "  print('體溫略高')\n",
        "elif temp >=34 and temp <36.9:\n",
        "  print('體溫正常')\n",
        "else: \n",
        "  print('體溫異常，請重新量測!')"
      ]
    },
    {
      "cell_type": "code",
      "source": [
        "money = int(input('請輸入購物金額:'))\n",
        "if (money>=10000):\n",
        "  if (money >= 100000):\n",
        "    print('八折',money * 0.8,end = '元\\n')\n",
        "  elif (money>50000):\n",
        "    print('八五折',money * 0.85,end = '元\\n')\n",
        "  elif (money>= 30000):\n",
        "    print('九折',money * 0.9 , end = '元\\n')\n",
        "  elif (money>=10000):\n",
        "    print('九五折', money * 0.95 , end = '元\\n')\n",
        "else:\n",
        "  print('沒打折', money , end = '元\\n')"
      ],
      "metadata": {
        "colab": {
          "base_uri": "https://localhost:8080/"
        },
        "id": "Uuq8gQbqlWRZ",
        "outputId": "d19d36f2-7555-44f2-ae1b-cb356b2840bf"
      },
      "execution_count": 20,
      "outputs": [
        {
          "output_type": "stream",
          "name": "stdout",
          "text": [
            "請輸入購物金額:1000000\n",
            "八折 800000.0元\n"
          ]
        }
      ]
    },
    {
      "cell_type": "code",
      "source": [
        "test = int(input('請輸入成績'))\n",
        "if (test>=90):\n",
        "  print('A')\n",
        "elif (test>=80):\n",
        "  print('B')\n",
        "elif (test>=70):\n",
        "  print('C')\n",
        "elif (test>=60):\n",
        "  print('D')\n",
        "elif (test<60):\n",
        "  print('E')"
      ],
      "metadata": {
        "colab": {
          "base_uri": "https://localhost:8080/"
        },
        "id": "0KSTWkqsp7MN",
        "outputId": "d89a8127-48b1-476a-e9d8-8684eba046b2"
      },
      "execution_count": 19,
      "outputs": [
        {
          "output_type": "stream",
          "name": "stdout",
          "text": [
            "請輸入成績55\n",
            "E\n"
          ]
        }
      ]
    },
    {
      "cell_type": "code",
      "source": [
        "season = int(input('請輸入月份'))\n",
        "if (season >=2 and season <= 5):\n",
        "  print(season ,'月是春天!',sep = '')\n",
        "elif (season >= 6 and season <= 8):\n",
        "  print(season ,'月是夏天!',sep = '')\n",
        "elif (season >= 9 and season <=11):\n",
        "  print(season ,'月是秋天!',sep = '')\n",
        "elif (season == 12 or (season <= 2 and season>0)):\n",
        "  print(season ,'月是冬天!',sep = '')\n",
        "else:\n",
        "  print('月份不在範圍內!')"
      ],
      "metadata": {
        "colab": {
          "base_uri": "https://localhost:8080/"
        },
        "id": "RU1YViBPp7Bs",
        "outputId": "6f5be532-959e-4ab8-b533-920d6e560bbf"
      },
      "execution_count": 26,
      "outputs": [
        {
          "output_type": "stream",
          "name": "stdout",
          "text": [
            "請輸入月份0\n",
            "月份不在範圍內!\n"
          ]
        }
      ]
    },
    {
      "cell_type": "code",
      "source": [
        "earn = int(input('請輸入今年收入淨額:'))\n",
        "if (earn>= 2000000):\n",
        "  print('付稅金額', earn * 0.3, '元',sep = '')\n",
        "elif (earn>=1000000):\n",
        "  print('付稅金額', earn * 0.21, '元',sep = '')\n",
        "elif (earn>=600000):\n",
        "  print('付稅金額', earn * 0.13, '元',sep = '')\n",
        "elif (earn>=300000):\n",
        "  print('付稅金額', earn * 0.06, '元',sep = '')\n",
        "else:\n",
        "  print('付稅金額', earn * 0, '元',sep = '')"
      ],
      "metadata": {
        "colab": {
          "base_uri": "https://localhost:8080/"
        },
        "id": "6h0I8GvTp0BD",
        "outputId": "6a7dd84a-b420-4ab5-d28a-9096446f2820"
      },
      "execution_count": 13,
      "outputs": [
        {
          "output_type": "stream",
          "name": "stdout",
          "text": [
            "請輸入今年收入淨額:150000\n",
            "付稅金額0元\n"
          ]
        }
      ]
    },
    {
      "cell_type": "code",
      "source": [
        ""
      ],
      "metadata": {
        "id": "HtCRf0F3s3n6"
      },
      "execution_count": 6,
      "outputs": []
    }
  ]
}